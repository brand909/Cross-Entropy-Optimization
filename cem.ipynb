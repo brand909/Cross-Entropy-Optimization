{
 "cells": [
  {
   "cell_type": "code",
   "execution_count": 1,
   "metadata": {},
   "outputs": [],
   "source": [
    "from cem import cem\n",
    "import gym"
   ]
  },
  {
   "cell_type": "code",
   "execution_count": 2,
   "metadata": {},
   "outputs": [
    {
     "name": "stdout",
     "output_type": "stream",
     "text": [
      "observation space: Box(2,)\n",
      "action space: Box(1,)\n",
      "  - low: [-1.]\n",
      "  - high: [1.]\n"
     ]
    }
   ],
   "source": [
    "env = gym.make('MountainCarContinuous-v0')\n",
    "print('observation space:', env.observation_space)\n",
    "print('action space:', env.action_space)\n",
    "print('  - low:', env.action_space.low)\n",
    "print('  - high:', env.action_space.high)"
   ]
  },
  {
   "cell_type": "code",
   "execution_count": 3,
   "metadata": {
    "scrolled": true
   },
   "outputs": [
    {
     "name": "stdout",
     "output_type": "stream",
     "text": [
      "Episode 10\tAverage Score: -3.23\n",
      "Episode 20\tAverage Score: -4.98\n",
      "Episode 30\tAverage Score: -5.00\n",
      "Episode 40\tAverage Score: -5.18\n",
      "Episode 50\tAverage Score: -4.36\n",
      "Episode 60\tAverage Score: -3.86\n",
      "Episode 70\tAverage Score: -3.50\n",
      "Episode 80\tAverage Score: -3.13\n",
      "Episode 90\tAverage Score: -2.81\n",
      "Episode 100\tAverage Score: -2.59\n",
      "Episode 110\tAverage Score: -2.33\n",
      "Episode 120\tAverage Score: -1.70\n",
      "Episode 130\tAverage Score: -1.33\n",
      "Episode 140\tAverage Score: -0.79\n",
      "Episode 150\tAverage Score: -0.69\n",
      "Episode 160\tAverage Score: -0.56\n",
      "Episode 170\tAverage Score: -0.44\n",
      "Episode 180\tAverage Score: -0.47\n",
      "Episode 190\tAverage Score: -0.49\n",
      "Episode 200\tAverage Score: -0.45\n",
      "Episode 210\tAverage Score: -0.39\n",
      "Episode 220\tAverage Score: -0.38\n",
      "Episode 230\tAverage Score: -0.28\n",
      "Episode 240\tAverage Score: 5.40\n",
      "Episode 250\tAverage Score: 14.61\n",
      "Episode 260\tAverage Score: 23.84\n",
      "Episode 270\tAverage Score: 33.18\n",
      "Episode 280\tAverage Score: 42.54\n",
      "Episode 290\tAverage Score: 52.12\n",
      "Episode 300\tAverage Score: 61.58\n",
      "Episode 310\tAverage Score: 70.98\n",
      "Episode 320\tAverage Score: 80.57\n",
      "Episode 330\tAverage Score: 89.95\n",
      "\n",
      "Environment solved in 231 iterations!\tAverage Score: 90.92\n"
     ]
    }
   ],
   "source": [
    "scores, agent = cem()"
   ]
  },
  {
   "cell_type": "code",
   "execution_count": 4,
   "metadata": {},
   "outputs": [],
   "source": [
    "state = env.reset()\n",
    "for t in range(1000):\n",
    "    env.render()\n",
    "    action = agent.forward(state)\n",
    "    state, reward, done, _ = env.step(action)\n",
    "    if done:\n",
    "        env.close()\n",
    "        break"
   ]
  },
  {
   "cell_type": "code",
   "execution_count": null,
   "metadata": {},
   "outputs": [],
   "source": []
  }
 ],
 "metadata": {
  "kernelspec": {
   "display_name": "Python 3",
   "language": "python",
   "name": "python3"
  },
  "language_info": {
   "codemirror_mode": {
    "name": "ipython",
    "version": 3
   },
   "file_extension": ".py",
   "mimetype": "text/x-python",
   "name": "python",
   "nbconvert_exporter": "python",
   "pygments_lexer": "ipython3",
   "version": "3.7.6"
  }
 },
 "nbformat": 4,
 "nbformat_minor": 4
}
